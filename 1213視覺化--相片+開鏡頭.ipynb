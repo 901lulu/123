{
 "cells": [
  {
   "cell_type": "markdown",
   "id": "905045c7",
   "metadata": {},
   "source": [
    "## 1.套件"
   ]
  },
  {
   "cell_type": "markdown",
   "id": "f0a82f22",
   "metadata": {},
   "source": [
    "## 2. 讀取資料(讀相片)"
   ]
  },
  {
   "cell_type": "code",
   "execution_count": 8,
   "id": "5d33509e",
   "metadata": {
    "scrolled": true
   },
   "outputs": [
    {
     "ename": "ModuleNotFoundError",
     "evalue": "No module named 'cv2'",
     "output_type": "error",
     "traceback": [
      "\u001b[1;31m---------------------------------------------------------------------------\u001b[0m",
      "\u001b[1;31mModuleNotFoundError\u001b[0m                       Traceback (most recent call last)",
      "\u001b[1;32m<ipython-input-8-a818f133f212>\u001b[0m in \u001b[0;36m<module>\u001b[1;34m\u001b[0m\n\u001b[1;32m----> 1\u001b[1;33m \u001b[1;32mimport\u001b[0m \u001b[0mcv2\u001b[0m\u001b[1;33m\u001b[0m\u001b[1;33m\u001b[0m\u001b[0m\n\u001b[0m\u001b[0;32m      2\u001b[0m \u001b[1;33m\u001b[0m\u001b[0m\n\u001b[0;32m      3\u001b[0m \u001b[0mimg\u001b[0m \u001b[1;33m=\u001b[0m \u001b[0mcv2\u001b[0m\u001b[1;33m.\u001b[0m\u001b[0mimread\u001b[0m\u001b[1;33m(\u001b[0m\u001b[1;34m'D:/Data/image/123.jpg'\u001b[0m\u001b[1;33m)\u001b[0m  \u001b[1;31m#讀取檔案\u001b[0m\u001b[1;33m\u001b[0m\u001b[1;33m\u001b[0m\u001b[0m\n\u001b[0;32m      4\u001b[0m \u001b[1;33m\u001b[0m\u001b[0m\n\u001b[0;32m      5\u001b[0m \u001b[0mcv2\u001b[0m\u001b[1;33m.\u001b[0m\u001b[0mimshow\u001b[0m\u001b[1;33m(\u001b[0m\u001b[1;34m\"image\"\u001b[0m\u001b[1;33m,\u001b[0m\u001b[0mimg\u001b[0m\u001b[1;33m)\u001b[0m        \u001b[1;31m#顯示圖片，第 1 個參數是視窗名字，第 2 參數是圖檔的變數名稱\u001b[0m\u001b[1;33m\u001b[0m\u001b[1;33m\u001b[0m\u001b[0m\n",
      "\u001b[1;31mModuleNotFoundError\u001b[0m: No module named 'cv2'"
     ]
    }
   ],
   "source": [
    "import cv2\n",
    "\n",
    "img = cv2.imread('D:/Data/image/123.jpg')  #讀取檔案\n",
    "\n",
    "cv2.imshow(\"image\",img)        #顯示圖片，第 1 個參數是視窗名字，第 2 參數是圖檔的變數名稱\n",
    "\n",
    "cv2.waitKey(0)                    #參數是等待時間(單位為毫秒)，設定為 0 表示持續等待至使用者按下任按鍵\n",
    "\n",
    "cv2.destroyAllWindows()           #按下任何鍵後關閉所有 OpenCV 的視窗"
   ]
  },
  {
   "cell_type": "code",
   "execution_count": 4,
   "id": "d4e14869",
   "metadata": {},
   "outputs": [
    {
     "ename": "SyntaxError",
     "evalue": "EOL while scanning string literal (<ipython-input-4-0a455fa86ad7>, line 3)",
     "output_type": "error",
     "traceback": [
      "\u001b[1;36m  File \u001b[1;32m\"<ipython-input-4-0a455fa86ad7>\"\u001b[1;36m, line \u001b[1;32m3\u001b[0m\n\u001b[1;33m    face_cascade = cv2.CascadeClassifier('C:/Users/lulu6/OneDrive/桌面/haarcascade_frontalface_default.)     # 載人分類器\u001b[0m\n\u001b[1;37m                                                                                                                  ^\u001b[0m\n\u001b[1;31mSyntaxError\u001b[0m\u001b[1;31m:\u001b[0m EOL while scanning string literal\n"
     ]
    }
   ],
   "source": [
    "import cv2 \n",
    "\n",
    "face_cascade = cv2.CascadeClassifier('C:/Users/lulu6/OneDrive/桌面/haarcascade_frontalface_default.)     # 載人分類器\n",
    "                                        \n",
    "    \n",
    "img = cv2.imread('C:/Users/lulu6/OneDrive/桌面/unnamed.jpg')                       # 轉成灰階圖片 \n",
    "\n",
    "gray = cv2.cvtColor(img, cv2.COLOR_BGR2GRAY)\n",
    "\n",
    "#偵測臉部 \n",
    "faces = face_cascade.detectMultiScale(gray, scaleFactor = 1.08, minNeighbors = 5, minSize = (32, 32))   # 繪製人臉部份的方框 \n",
    "\n",
    "for (x, y, w, h) in faces:\n",
    "    cv2.rectangle(img, (x, y), (x + w, y + h), (0, 255, 0), 2)   #(0, 255, 0)欄位可以變更方框顏色(Blue, Green, Red)   # 顯示成果\n",
    "\n",
    "cv2.namedWindow('img', cv2.WINDOW_NORMAL) # 正常視窗大小\n",
    "cv2.imshow('img', img)                    # 秀出圖片\n",
    "\n",
    "cv2.imwrite(\"result.jpg\", img )           # 保存圖片\n",
    "\n",
    "cv2.waitKey(0)                            # 等待按下任一按鍵\n",
    "cv2.destroyAllWindows()                   # 關閉視窗"
   ]
  },
  {
   "cell_type": "code",
   "execution_count": null,
   "id": "d48e8c85",
   "metadata": {},
   "outputs": [],
   "source": []
  }
 ],
 "metadata": {
  "kernelspec": {
   "display_name": "Python 3",
   "language": "python",
   "name": "python3"
  },
  "language_info": {
   "codemirror_mode": {
    "name": "ipython",
    "version": 3
   },
   "file_extension": ".py",
   "mimetype": "text/x-python",
   "name": "python",
   "nbconvert_exporter": "python",
   "pygments_lexer": "ipython3",
   "version": "3.8.8"
  }
 },
 "nbformat": 4,
 "nbformat_minor": 5
}
